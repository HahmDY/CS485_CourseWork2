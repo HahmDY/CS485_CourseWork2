{
 "cells": [
  {
   "cell_type": "code",
   "execution_count": null,
   "metadata": {},
   "outputs": [],
   "source": [
    "import os\n",
    "import cv2 as cv\n",
    "import numpy as np\n",
    "import random\n",
    "from utils import DataHandler"
   ]
  },
  {
   "cell_type": "markdown",
   "metadata": {},
   "source": [
    "# Q1"
   ]
  },
  {
   "cell_type": "markdown",
   "metadata": {},
   "source": [
    "### Construct histogram"
   ]
  },
  {
   "cell_type": "code",
   "execution_count": null,
   "metadata": {},
   "outputs": [],
   "source": [
    "root = \"./RF_code/Caltech_101/101_ObjectCategories\"\n",
    "img_sel = [15, 15]\n",
    "vocab_size = 64\n",
    "\n",
    "datahandler = DataHandler(root)\n",
    "datahandler.sift(img_sel)\n",
    "histogram_tr, label_tr, histogram_te, label_te = datahandler.kmeans_codebook(vocab_size)"
   ]
  },
  {
   "cell_type": "markdown",
   "metadata": {},
   "source": [
    "### visualization"
   ]
  },
  {
   "cell_type": "code",
   "execution_count": null,
   "metadata": {},
   "outputs": [],
   "source": [
    "cls = 'water_lilly' # ['water_lilly', 'trilobite', 'wild_cat', 'wrench', 'wheelchair', 'yin_yang', 'umbrella', 'watch', 'windsor_chair', 'tick'\n",
    "idx = 2 # 0~14\n",
    "datahandler.visualization(True, cls, idx) # train : True, test : False"
   ]
  },
  {
   "cell_type": "markdown",
   "metadata": {},
   "source": [
    "### save result"
   ]
  },
  {
   "cell_type": "code",
   "execution_count": null,
   "metadata": {},
   "outputs": [],
   "source": [
    "np.save('histogram_tr.npy', histogram_tr)\n",
    "np.save('label_tr.npy', label_tr)\n",
    "np.save('histogram_te.npy', histogram_te)\n",
    "np.save('label_te.npy', label_te)\n",
    "print(histogram_tr.shape, label_tr.shape, histogram_te.shape, label_te.shape)"
   ]
  },
  {
   "cell_type": "markdown",
   "metadata": {},
   "source": [
    "# Q2 RF Classifier"
   ]
  },
  {
   "cell_type": "code",
   "execution_count": null,
   "metadata": {},
   "outputs": [],
   "source": [
    "from sklearn.ensemble import RandomForestClassifier"
   ]
  },
  {
   "cell_type": "code",
   "execution_count": null,
   "metadata": {},
   "outputs": [],
   "source": [
    "model = RandomForestClassifier(n_estimators=5, random_state=0)\n",
    "model.fit(histogram_tr, label_tr)"
   ]
  },
  {
   "cell_type": "markdown",
   "metadata": {},
   "source": [
    "# Q4 CNN"
   ]
  },
  {
   "cell_type": "markdown",
   "metadata": {},
   "source": [
    "### data split"
   ]
  },
  {
   "cell_type": "code",
   "execution_count": null,
   "metadata": {},
   "outputs": [],
   "source": [
    "from utils import DataHandler\n",
    "img_sel = [15, 15, 15] # train, val, test\n",
    "vocab_size = 64\n",
    "datahandler = DataHandler(img_sel, vocab_size)\n",
    "datahandler.CNN_data_split()"
   ]
  }
 ],
 "metadata": {
  "kernelspec": {
   "display_name": "cs485",
   "language": "python",
   "name": "python3"
  },
  "language_info": {
   "codemirror_mode": {
    "name": "ipython",
    "version": 3
   },
   "file_extension": ".py",
   "mimetype": "text/x-python",
   "name": "python",
   "nbconvert_exporter": "python",
   "pygments_lexer": "ipython3",
   "version": "3.11.5"
  }
 },
 "nbformat": 4,
 "nbformat_minor": 2
}
