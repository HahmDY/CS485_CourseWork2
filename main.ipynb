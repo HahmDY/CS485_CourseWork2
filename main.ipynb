{
 "cells": [
  {
   "cell_type": "code",
   "execution_count": 1,
   "metadata": {},
   "outputs": [],
   "source": [
    "import os\n",
    "import cv2 as cv\n",
    "import numpy as np\n",
    "import random\n",
    "from vectorQuantization import *"
   ]
  },
  {
   "cell_type": "markdown",
   "metadata": {},
   "source": [
    "# Q1"
   ]
  },
  {
   "cell_type": "markdown",
   "metadata": {},
   "source": [
    "### Construct histogram"
   ]
  },
  {
   "cell_type": "code",
   "execution_count": 2,
   "metadata": {},
   "outputs": [
    {
     "ename": "NameError",
     "evalue": "name 'data_dir' is not defined",
     "output_type": "error",
     "traceback": [
      "\u001b[0;31m---------------------------------------------------------------------------\u001b[0m",
      "\u001b[0;31mNameError\u001b[0m                                 Traceback (most recent call last)",
      "\u001b[1;32m/Users/youngmin/Documents/KAIST/CS/ML_for_CV/cowork/cs485_cw2/main.ipynb Cell 4\u001b[0m line \u001b[0;36m4\n\u001b[1;32m      <a href='vscode-notebook-cell:/Users/youngmin/Documents/KAIST/CS/ML_for_CV/cowork/cs485_cw2/main.ipynb#W3sZmlsZQ%3D%3D?line=0'>1</a>\u001b[0m root \u001b[39m=\u001b[39m \u001b[39m\"\u001b[39m\u001b[39m./RF_code/Caltech_101/101_ObjectCategories\u001b[39m\u001b[39m\"\u001b[39m\n\u001b[1;32m      <a href='vscode-notebook-cell:/Users/youngmin/Documents/KAIST/CS/ML_for_CV/cowork/cs485_cw2/main.ipynb#W3sZmlsZQ%3D%3D?line=1'>2</a>\u001b[0m vocab_size \u001b[39m=\u001b[39m \u001b[39m200\u001b[39m\n\u001b[0;32m----> <a href='vscode-notebook-cell:/Users/youngmin/Documents/KAIST/CS/ML_for_CV/cowork/cs485_cw2/main.ipynb#W3sZmlsZQ%3D%3D?line=3'>4</a>\u001b[0m vq \u001b[39m=\u001b[39m VectorQuantization(root)\n",
      "File \u001b[0;32m~/Documents/KAIST/CS/ML_for_CV/cowork/cs485_cw2/vectorQuantization.py:58\u001b[0m, in \u001b[0;36mVectorQuantization.__init__\u001b[0;34m(self, datadir)\u001b[0m\n\u001b[1;32m     53\u001b[0m \u001b[39mself\u001b[39m\u001b[39m.\u001b[39msift \u001b[39m=\u001b[39m cv\u001b[39m.\u001b[39mSIFT_create()\n\u001b[1;32m     54\u001b[0m \u001b[39m############# histogram #############\u001b[39;00m\n\u001b[1;32m     55\u001b[0m \n\u001b[1;32m     56\u001b[0m \u001b[39m####################################\u001b[39;00m\n\u001b[0;32m---> 58\u001b[0m \u001b[39mself\u001b[39m\u001b[39m.\u001b[39mload_data(data_dir)\n",
      "\u001b[0;31mNameError\u001b[0m: name 'data_dir' is not defined"
     ]
    }
   ],
   "source": [
    "root = \"./RF_code/Caltech_101/101_ObjectCategories\"\n",
    "vocab_size = 200\n",
    "\n",
    "vq = VectorQuantization(root)"
   ]
  },
  {
   "cell_type": "markdown",
   "metadata": {},
   "source": [
    "### visualization"
   ]
  },
  {
   "cell_type": "code",
   "execution_count": null,
   "metadata": {},
   "outputs": [],
   "source": [
    "cls = 'water_lilly' # ['water_lilly', 'trilobite', 'wild_cat', 'wrench', 'wheelchair', 'yin_yang', 'umbrella', 'watch', 'windsor_chair', 'tick'\n",
    "idx = 2 # 0~14\n",
    "datahandler.visualization(True, cls, idx) # train : True, test : False"
   ]
  },
  {
   "cell_type": "markdown",
   "metadata": {},
   "source": [
    "### save result"
   ]
  },
  {
   "cell_type": "code",
   "execution_count": null,
   "metadata": {},
   "outputs": [],
   "source": [
    "np.save('histogram_tr.npy', histogram_tr)\n",
    "np.save('label_tr.npy', label_tr)\n",
    "np.save('histogram_te.npy', histogram_te)\n",
    "np.save('label_te.npy', label_te)\n",
    "print(histogram_tr.shape, label_tr.shape, histogram_te.shape, label_te.shape)"
   ]
  },
  {
   "cell_type": "markdown",
   "metadata": {},
   "source": [
    "# Q2 RF Classifier"
   ]
  },
  {
   "cell_type": "code",
   "execution_count": null,
   "metadata": {},
   "outputs": [],
   "source": [
    "from sklearn.ensemble import RandomForestClassifier"
   ]
  },
  {
   "cell_type": "code",
   "execution_count": null,
   "metadata": {},
   "outputs": [],
   "source": [
    "model = RandomForestClassifier(n_estimators=5, random_state=0)\n",
    "model.fit(histogram_tr, label_tr)"
   ]
  },
  {
   "cell_type": "markdown",
   "metadata": {},
   "source": [
    "# Q4 CNN"
   ]
  },
  {
   "cell_type": "markdown",
   "metadata": {},
   "source": [
    "### data split"
   ]
  },
  {
   "cell_type": "code",
   "execution_count": null,
   "metadata": {},
   "outputs": [],
   "source": [
    "from utils import DataHandler\n",
    "img_sel = [15, 15, 15] # train, val, test\n",
    "vocab_size = 64\n",
    "datahandler = DataHandler(img_sel, vocab_size)\n",
    "datahandler.CNN_data_split()"
   ]
  }
 ],
 "metadata": {
  "kernelspec": {
   "display_name": "cs485",
   "language": "python",
   "name": "python3"
  },
  "language_info": {
   "codemirror_mode": {
    "name": "ipython",
    "version": 3
   },
   "file_extension": ".py",
   "mimetype": "text/x-python",
   "name": "python",
   "nbconvert_exporter": "python",
   "pygments_lexer": "ipython3",
   "version": "3.11.5"
  }
 },
 "nbformat": 4,
 "nbformat_minor": 2
}
